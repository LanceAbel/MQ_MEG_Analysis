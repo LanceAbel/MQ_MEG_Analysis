{
 "cells": [
  {
   "cell_type": "code",
   "execution_count": 1,
   "id": "3177e4f3",
   "metadata": {},
   "outputs": [],
   "source": [
    "# Runs all statistical analyses for each condition/model used, saves outputs (graphs of GFPs, ERFs, significant temporal clusters, significant spatiotemporal clusters, regression analysis outputs etc)"
   ]
  },
  {
   "cell_type": "code",
   "execution_count": null,
   "id": "487e4b25",
   "metadata": {},
   "outputs": [],
   "source": [
    "#!/usr/bin/env python3\n",
    "# -*- coding: utf-8 -*-\n",
    "\"\"\"\n",
    "__author__ = \"Lance Abel\"\n",
    "__copyright__ = \"2022\"\n",
    "__credits__ = \"With input from Paul Sowman\"\n",
    "__license__ = \"GPL\"\n",
    "__version__ = \"27\"\n",
    "__maintainer__ = \"Lance Abel\"\n",
    "__email__ = \"lance.abel@hdr.mq.edu.au\"\n",
    "__status__ = \n",
    "\n",
    "# mne 0.23.4\n",
    "# numpy 1.19.5\n",
    "# pandas # 0.25.3\n",
    "# matplot 3.3.4\n",
    "# pimpler 1.0.1\n",
    "# regex 2022.1.18\n",
    "# scipy 1.5.4\n",
    "# hickle 4.0.4\n",
    "# regex 2022.3.15\n",
    "# autoreject 0.2.2\n",
    "# pathlib 1.0.1\n",
    "# joblib 1.1.0\n",
    "# sklearn 0.24.2\n",
    "# psutil 5.9.0\n",
    "\n",
    "\"\"\"\n",
    "#%% required packages\n",
    "# ! pip install -- upgrade mne\n",
    "# ! pip install https://api.github.com/repos/autoreject/autoreject/zipball/master\n",
    "# ! pip install fooof\n",
    "# ! pip install --upgrade numpy\n",
    "# ! pip install pyriemann\n",
    "# !pip install eeglabio\n",
    "# pip install dss"
   ]
  },
  {
   "cell_type": "code",
   "execution_count": null,
   "id": "7dd42921",
   "metadata": {},
   "outputs": [],
   "source": [
    "import mne\n",
    "from mne import io\n",
    "from mne.stats import permutation_cluster_test\n",
    "from mne.datasets import sample\n",
    "import glob\n",
    "import numpy as np\n",
    "import pandas as pd\n",
    "import scipy.io\n",
    "import math\n",
    "from autoreject import get_rejection_threshold\n",
    "from autoreject import Ransac\n",
    "from autoreject import (AutoReject, set_matplotlib_defaults)  # noqa\n",
    "from autoreject import get_rejection_threshold  # noqa\n",
    "from matplotlib import pyplot as plt\n",
    "#import Image\n",
    "import matplotlib.pyplot as plt\n",
    "from mne.preprocessing import ICA\n",
    "from mne.preprocessing import find_bad_channels_maxwell\n",
    "import gc\n",
    "import os\n",
    "import time\n",
    "import re\n",
    "import pickle\n",
    "import hickle\n",
    "import copy\n",
    "from pathlib import Path\n",
    "from IPython.display import clear_output\n",
    "import inspect\n",
    "start_time = time.time()"
   ]
  },
  {
   "cell_type": "code",
   "execution_count": 2,
   "id": "e0385059",
   "metadata": {},
   "outputs": [
    {
     "data": {
      "text/html": [
       "<style>.container { width:100% !important; }</style>"
      ],
      "text/plain": [
       "<IPython.core.display.HTML object>"
      ]
     },
     "metadata": {},
     "output_type": "display_data"
    }
   ],
   "source": [
    "from IPython.core.display import display, HTML\n",
    "display(HTML(\"<style>.container { width:100% !important; }</style>\"))\n",
    "pd.set_option('display.max_rows', 500)\n",
    "pd.set_option('display.max_columns', 500)\n",
    "pd.set_option('display.width', 1000)\n",
    "pd.options.display.float_format = '{:,.4f}'.format"
   ]
  },
  {
   "cell_type": "code",
   "execution_count": 3,
   "id": "a849e135",
   "metadata": {},
   "outputs": [],
   "source": [
    "os.chdir(r'E:\\oDrive\\OneDrive\\Docs Sync\\Jobs And Money\\Careers\\Study\\Uni\\MAC\\MQ MRes\\Coding\\Lance\\MEG\\Python MEG\\\\')"
   ]
  },
  {
   "cell_type": "code",
   "execution_count": 4,
   "id": "bbc0cc4e",
   "metadata": {},
   "outputs": [
    {
     "name": "stdout",
     "output_type": "stream",
     "text": [
      "Adult : False Experiment number:  1  Number of channels on system adult:  256  Number of channels child:  192\n",
      "File to be saved as : hgf_pe3 RS=F,AR=F,ICA=F, 0to295 20%vs20% unstandardised\n",
      "Cpu Used as % 48.9\n",
      "Memory Free GB 6.512783050537109\n"
     ]
    }
   ],
   "source": [
    "import numpy as np\n",
    "import glob\n",
    "from helpers import *\n",
    "import pandas as pd\n",
    "from participant_data import *\n",
    "from config import *"
   ]
  },
  {
   "cell_type": "code",
   "execution_count": 5,
   "id": "38ba959e",
   "metadata": {},
   "outputs": [],
   "source": [
    "os.chdir(r'E:\\oDrive\\OneDrive\\Docs Sync\\Jobs And Money\\Careers\\Study\\Uni\\MAC\\MQ MRes\\Coding\\Lance\\MEG\\Python MEG\\\\')"
   ]
  },
  {
   "cell_type": "code",
   "execution_count": 6,
   "id": "baa32051",
   "metadata": {},
   "outputs": [],
   "source": [
    "from experiment import *\n",
    "from participant import *\n",
    "fontsize = 11 # Font size for titles, where applicable"
   ]
  },
  {
   "cell_type": "code",
   "execution_count": 7,
   "id": "2b01ab8c",
   "metadata": {},
   "outputs": [],
   "source": [
    "percentiles = 10, 20\n",
    "age_bounds_low=[3,5]\n",
    "age_bounds_high=[10,20]"
   ]
  },
  {
   "cell_type": "code",
   "execution_count": 8,
   "id": "a85318f1",
   "metadata": {},
   "outputs": [],
   "source": [
    "EPOCH_START_ANALYSIS, EPOCH_END_ANALYSIS = 0.0, 0.295 # 0.295 #  # 0.13, 0.185 "
   ]
  },
  {
   "cell_type": "code",
   "execution_count": 9,
   "id": "ed3bcc86",
   "metadata": {},
   "outputs": [],
   "source": [
    "CONSTANT_RADIUS_MULT = 1 # 0.85"
   ]
  },
  {
   "cell_type": "code",
   "execution_count": 10,
   "id": "bb18d65a",
   "metadata": {},
   "outputs": [],
   "source": [
    "EXP_BASE          = r'E:\\BigData\\MEG\\MRES\\ME125_MMN_phase1_Yanan\\Experiments\\\\'\n",
    "EXP_BASE          = r'E:\\BigData\\MEG\\MRES\\ME125_MMN_phase1_Yanan\\ExperimentsNew\\\\'\n",
    "os.chdir(EXP_BASE)\n",
    "base_contents = os.listdir('.')"
   ]
  },
  {
   "cell_type": "code",
   "execution_count": 11,
   "id": "4ad26238",
   "metadata": {},
   "outputs": [],
   "source": [
    "STAT_TO_USE = 'corr' # 'corr'"
   ]
  },
  {
   "cell_type": "code",
   "execution_count": 12,
   "id": "a448d862",
   "metadata": {},
   "outputs": [
    {
     "name": "stdout",
     "output_type": "stream",
     "text": [
      "Number children 42 Number adults  33\n"
     ]
    }
   ],
   "source": [
    "# Extracts the evoked for each condition tested and the group average\n",
    "CHILD_BASE          = BASE_FOLDER+'\\Child_MEG\\\\'\n",
    "ADULT_BASE          = BASE_FOLDER+'\\Adult_MEG\\\\'\n",
    "child_participant_strings, adult_participant_strings = set_up_participants() # > set_up_participants found in experiment.py\n",
    "print(\"Number children\", len(child_participant_strings), \"Number adults \", len(adult_participant_strings))"
   ]
  },
  {
   "cell_type": "code",
   "execution_count": 13,
   "id": "aa369d2a",
   "metadata": {},
   "outputs": [],
   "source": [
    "# NUM_ADULTS = 16\n",
    "# NUM_CHILDREN = 16\n",
    "# child_participant_strings = child_participant_strings[0:NUM_CHILDREN]\n",
    "# adult_participant_strings = adult_participant_strings[0:NUM_ADULTS]"
   ]
  },
  {
   "cell_type": "code",
   "execution_count": 14,
   "id": "95fe3104",
   "metadata": {},
   "outputs": [],
   "source": [
    "# child_participant_strings = child_participant_strings[0:10]\n",
    "# adult_participant_strings = adult_participant_strings[0:10]"
   ]
  },
  {
   "cell_type": "code",
   "execution_count": 15,
   "id": "374499f1",
   "metadata": {},
   "outputs": [
    {
     "name": "stdout",
     "output_type": "stream",
     "text": [
      "['2629', '2683', '2687', '2695', '2696', '2697', '2699', '2702', '2703', '2712', '2713', '2716', '2738', '2739', '2766', '2785', '2786', '2787', '2793', '2854', '2858', '2866', '2872', '2875', '2888', '2897', '2908', '2913', '3380', '3394', '3416', '3418', '3419', '3421', '3422', '3423', '3429', '3438', '3439', '3448', '3508', '3612']\n",
      "['2552', '2678', '2689', '2717', '2718', '2719', '2723', '2729', '2730', '2733', '2737', '2744', '2745', '2748', '2750', '2752', '2760', '9002', '9003', '9004', '9005', '9006', '9008', '9009', '9010', '9011', '9012', '9013', '9018', '9019', '9020', '9021', '9022']\n"
     ]
    }
   ],
   "source": [
    "print(child_participant_strings)\n",
    "print(adult_participant_strings)"
   ]
  },
  {
   "cell_type": "code",
   "execution_count": null,
   "id": "f045c469",
   "metadata": {},
   "outputs": [],
   "source": [
    "import scipy.stats as st"
   ]
  },
  {
   "cell_type": "code",
   "execution_count": 23,
   "id": "75489968",
   "metadata": {},
   "outputs": [
    {
     "data": {
      "text/plain": [
       "['600 Hz vs 700Hz -100 to 300',\n",
       " '650 Hz vs 800Hz -100 to 300',\n",
       " 'BS 20pct -100 to 300',\n",
       " 'CS 20pct -100 to 300',\n",
       " 'Deviants -100 to 300',\n",
       " 'Deviants 995 vs 994 -100 to 300',\n",
       " 'Deviants 997 vs 887 -100 to 300',\n",
       " 'Deviants 99x vs 99y -100 to 300',\n",
       " 'PE2 Integrated 20pct -100 to 300',\n",
       " 'PE2 Integrated 20_80pct',\n",
       " 'PE2 Vanilla 20pct -100 to 300',\n",
       " 'PE2 Vanilla 20_80pct',\n",
       " 'PE3 Vanilla 20pct -100 to 300',\n",
       " 'PS 20pct -100 to 300',\n",
       " 'PWPE2 Vanilla 20pct -100 to 300']"
      ]
     },
     "execution_count": 23,
     "metadata": {},
     "output_type": "execute_result"
    }
   ],
   "source": [
    "base_contents"
   ]
  },
  {
   "cell_type": "code",
   "execution_count": 24,
   "id": "2c1d4fd2",
   "metadata": {},
   "outputs": [
    {
     "data": {
      "text/plain": [
       "['PE3 Vanilla 20pct -100 to 300']"
      ]
     },
     "execution_count": 24,
     "metadata": {},
     "output_type": "execute_result"
    }
   ],
   "source": [
    "# base_contents_to_use = base_contents[8:9] + base_contents[16:17] +  base_contents[18:19] + base_contents[20:21] # base_contents_to_use = base_contents[17:18]+base_contents[-1:] + base_contents[3:5]\n",
    "# base_contents_to_use = base_contents[24:25]\n",
    "base_contents_to_use = base_contents[4:5]+base_contents[22:23] # + base_contents[6:7]\n",
    "base_contents_to_use = base_contents[-3:-2]#+base_contents[19:20] # +base_contents[22:23]:\t\n",
    "base_contents_to_use"
   ]
  },
  {
   "cell_type": "code",
   "execution_count": 25,
   "id": "ec4ccbea",
   "metadata": {},
   "outputs": [],
   "source": [
    "# #base_contents_to_use = base_contents[0:8] # base_contents_to_use = base_contents[17:18]+base_contents[-1:] + base_contents[3:5]\n",
    "# base_contents_to_use = [x for x in base_contents if (\"0 to 300\" in x or \"-100 to 400\" in x)]\n",
    "# base_contents_to_use = base_contents_to_use[10:11]\n",
    "# base_contents_to_use"
   ]
  },
  {
   "cell_type": "code",
   "execution_count": 30,
   "id": "5c586130",
   "metadata": {
    "scrolled": false
   },
   "outputs": [
    {
     "name": "stdout",
     "output_type": "stream",
     "text": [
      "Problems with []\n"
     ]
    },
    {
     "data": {
      "image/png": "[encoded data removed]",
      "text/plain": [
       "<Figure size 432x288 with 1 Axes>"
      ]
     },
     "metadata": {
      "needs_background": "light"
     },
     "output_type": "display_data"
    }
   ],
   "source": [
    "# import pickle\n",
    "# from pathlib import Path\n",
    "start_time = time.time()\n",
    "problems = []\n",
    "MMR_Experiment = Experiment(experiment_numbers=experiment_numbers[\"Children\"], condition = conds_to_compare[events_to_tag[1]][1])\n",
    "MMR_Experiment.setup_to_run()\n",
    "for folder in base_contents_to_use:\n",
    "    base = EXP_BASE+folder\n",
    "    if os.path.isdir(base):\n",
    "        tgt_dir = base +\"\\\\\" # +'\\\\Standardised\\\\'    \n",
    "        print(tgt_dir)\n",
    "\n",
    "        #clear_output()\n",
    "        MMR_Experiment.all_stats_loop(tgt_dir, MMR_Experiment=None)\n",
    "\n",
    "        # Also produce files post-standardisation\n",
    "        tgt_dir = base +\"\\\\\" +'\\\\Standardised\\\\'    \n",
    "        print(tgt_dir)        \n",
    "        MMR_Experiment.all_stats_loop(tgt_dir, MMR_Experiment='NotNone')\n",
    "\n",
    "    clear_output()\n",
    "print(\"Problems with\", problems)"
   ]
  },
  {
   "cell_type": "code",
   "execution_count": 31,
   "id": "2ed06be4",
   "metadata": {},
   "outputs": [],
   "source": [
    "# # idealized 2-D representations of sensor positions, and are primarily used for arranging individual sensor subplots in a topoplot, or for showing the approximate relative arrangement of sensors as seen from above.\n",
    "# for key in ptcp.sensor_mapping_dct_simple.keys():\n",
    "#     if ptcp.sensor_mapping_dct_simple[key] == 'MEG 041':\n",
    "#         print(key)"
   ]
  },
  {
   "cell_type": "code",
   "execution_count": 32,
   "id": "fc7c6c5f",
   "metadata": {},
   "outputs": [],
   "source": [
    "# for folder in base_contents_to_use: #  + base_contents[13:14]:   # 10:11 is 0-300ms, 12:13 is 130-190ms\n",
    "#     MMR_Experiment = None\n",
    "#     gc.collect()\n",
    "#     problem_folders = []\n",
    "#     error_messages = []\n",
    "#     folder_num = 1 # + start_\n",
    "#     #for folder in base_contents[3:8]:\n",
    "#     if not os.path.isfile(EXP_BASE+folder):\n",
    "#     #for folder in base_contents[13:14] + base_contents[19:20]:   \n",
    "#     #for folder in base_contents[11:12]:    \n",
    "\n",
    "#         # Set up experiment\n",
    "#         # Add participants\n",
    "#         if MMR_Experiment==None:\n",
    "\n",
    "#             tgt_dir = EXP_BASE+folder +\"\\\\\" # +'\\\\Standardised\\\\'\n",
    "#             print(\"Target dir, \", tgt_dir, \" folder #: \", folder_num)\n",
    "#             os.chdir(tgt_dir)\n",
    "#             file_names = glob.glob(f\"{tgt_dir}*unstandardised.pickle\")\n",
    "#             #file_names = glob.glob(f\"{tgt_dir}* standardised.pickle\")\n",
    "#             file_names = glob.glob(f\"{tgt_dir}*.pickle\")\n",
    "#             if len(file_names) == 0:\n",
    "#                 file_names = glob.glob(f\"{tgt_dir}*Bins.pickle\")\n",
    "\n",
    "#             # Figure out which experiment it is for\n",
    "#             with open(file_names[0], \"rb\") as f:\n",
    "#                 ptcp = pickle.load(f)\n",
    "#             condition_to_compare = ptcp.cond_B\n",
    "#             events_to_tag = ptcp.events_to_tag  \n",
    "#         #         print(condition_to_compare)\n",
    "#         #         print(events_to_tag)\n",
    "#         #         print(conds_to_compare[events_to_tag[1]][1])\n",
    "\n",
    "\n",
    "#             MMR_Experiment = Experiment(experiment_numbers=experiment_numbers[\"Children\"], condition = conds_to_compare[events_to_tag[1]][1])\n",
    "#             MMR_Experiment.participants = []\n",
    "#             gc.collect()        \n",
    "#             for file in file_names:\n",
    "#                 # with open(file, \"rb\") as f:\n",
    "#                     #ptcp = pickle.load(f)\n",
    "\n",
    "#                 include = False\n",
    "#                 for child_string in child_participant_strings:\n",
    "#                     if child_string in file:\n",
    "#                         include = True\n",
    "#                 for adult_string in adult_participant_strings:\n",
    "#                     if adult_string in file:\n",
    "#                         include = True            \n",
    "#                 if include:\n",
    "#                     wait_until_memory_free(required_memory = 3, max_wait_time_mins = 5) # This requires some memory (set conservatively here as I may run many threads, should only be 500MB)        \n",
    "#                     MMR_Experiment.add_participants_from_disk([file])\n",
    "#                     ptcp = MMR_Experiment.participants[-1]\n",
    "#                     if ptcp.cond_A in ptcp.evoked_generic.keys() and ptcp.cond_B in ptcp.evoked_generic.keys():\n",
    "#                         MMR_Experiment.condition_to_compare = ptcp.cond_B\n",
    "#                         ptcp.epochs_ransac_autoreject.crop(tmin=EPOCH_START_ANALYSIS, tmax=EPOCH_END_ANALYSIS, include_tmax=True)\n",
    "#                         ptcp.evoked_generic[ptcp.cond_A].crop(tmin=EPOCH_START_ANALYSIS, tmax=EPOCH_END_ANALYSIS, include_tmax=True)\n",
    "#                         ptcp.evoked_generic[ptcp.cond_B].crop(tmin=EPOCH_START_ANALYSIS, tmax=EPOCH_END_ANALYSIS, include_tmax=True)\n",
    "#                         ptcp.evoked_all.crop(tmin=EPOCH_START_ANALYSIS, tmax=EPOCH_END_ANALYSIS, include_tmax=True)\n",
    "#                         del_attributes(ptcp, attrs_to_delete)\n",
    "#                         MMR_Experiment.participants[-1] = copy.deepcopy(ptcp)                          \n",
    "#                     else:\n",
    "#                         print(\"@@@@@@@@@ WARNING : CONDITIONS ARE WRONG @@@@@@ \", folder, ptcp.p_id)\n",
    "#                         del MMR_Experiment.participants[-1]\n",
    "#             MMR_Experiment.removed = {}\n",
    "#             MMR_Experiment.remove_bad_sound_delay()\n",
    "#             #MMR_Experiment.remove_unwanted_data() \n",
    "            \n",
    "            \n",
    "#             # Needed for headshape loading\n",
    "# #             age_num_groupings = int(100/20)\n",
    "# #             MMR_Experiment.find_age_groupings(num_age_groupings=age_num_groupings)\n",
    "\n",
    "            \n",
    "            \n",
    "#             MMR_Experiment.adjust_adult_head_info() \n",
    "            \n",
    "            \n",
    "#             MMR_Experiment.group_participants_on_age(num_per_group=None, absolute=True, system=None, age_cutoff=20)\n",
    "#             MMR_Experiment.compare_group(condition='B')             "
   ]
  },
  {
   "cell_type": "code",
   "execution_count": 33,
   "id": "e8fcedab",
   "metadata": {},
   "outputs": [],
   "source": [
    "# MMR_Experiment.group_participants_on_age(num_per_group=None, absolute=True, system=None, age_cutoff=20)\n",
    "# MMR_Experiment.compare_group(condition='B') \n",
    "# MMR_Experiment.compare_group(condition='A')\n",
    "# MMR_Experiment.compare_group(condition=None) \n",
    "\n",
    "# timestring = str(int(MMR_Experiment.participants[0].epochs_ransac_autoreject.times[0]*1000+0.01))+ \"-\"+str(int(MMR_Experiment.participants[0].epochs_ransac_autoreject.times[-1]*1000+0.01))+\"ms\"\n",
    "# MMR_Experiment.cond_A_evoked = []\n",
    "# MMR_Experiment.cond_B_evoked = []\n",
    "# r = 0\n",
    "# for ptcp in MMR_Experiment.participants:\n",
    "#     if r % 10 == 0:\n",
    "#         print(\"Compare ERFs loop: participant #: \", r)\n",
    "#     c_a = ptcp.evoked_generic[ptcp.cond_A]\n",
    "#     c_b = ptcp.evoked_generic[ptcp.cond_B]\n",
    "#     c_a_df = sum_df(c_a.to_data_frame())\n",
    "#     c_b_df = sum_df(c_b.to_data_frame())\n",
    "#     sum_a = c_a_df['sum'].values\n",
    "#     sum_b = c_b_df['sum'].values\n",
    "#     if sum([1 for x in sum_a if math.isnan(x)]) >0 or sum([1 for x in sum_b if math.isnan(x)]) >0:\n",
    "#         print(\"@@@@@@@@@@@@@ WARN!! nans present for \", MMR_Experiment.p_id, \", not adding @@@@@@@@@@@@@@ \")\n",
    "#     else:\n",
    "#         MMR_Experiment.cond_A_evoked.append(c_a) \n",
    "#         MMR_Experiment.cond_B_evoked.append(c_b)\n",
    "#     for var_to_delete in ['c_a','c_b']: #\",'x','y']:\n",
    "#         globals().pop(var_to_delete, None)\n",
    "#     gc.collect()\n",
    "#     r+=1\n",
    "            \n",
    "\n",
    "# MMR_Experiment.grand_average_cond_A = mne.grand_average(MMR_Experiment.cond_A_evoked)\n",
    "# MMR_Experiment.grand_average_cond_B = mne.grand_average(MMR_Experiment.cond_B_evoked)\n",
    "# MMR_Experiment.grand_average_cond_A_df = MMR_Experiment.grand_average_cond_A.to_data_frame()\n",
    "# MMR_Experiment.grand_average_cond_B_df = MMR_Experiment.grand_average_cond_B.to_data_frame()\n",
    "# MMR_Experiment.grand_average_cond_AB_diff = MMR_Experiment.grand_average_cond_B_df - MMR_Experiment.grand_average_cond_A_df\n",
    "# MMR_Experiment.grand_average_cond_AB_diff['time'] = MMR_Experiment.grand_average_cond_A_df['time'].values\n",
    "\n",
    "# MMR_Experiment.group_analysis(size_age_bucket_percent=20)\n",
    "\n",
    "# times = MMR_Experiment.grand_average_cond_A_df['time'].values"
   ]
  },
  {
   "cell_type": "code",
   "execution_count": 35,
   "id": "2980abcb",
   "metadata": {},
   "outputs": [
    {
     "ename": "NameError",
     "evalue": "name 'MMR_Experiment' is not defined",
     "output_type": "error",
     "traceback": [
      "\u001b[1;31m---------------------------------------------------------------------------\u001b[0m",
      "\u001b[1;31mNameError\u001b[0m                                 Traceback (most recent call last)",
      "\u001b[1;32m<ipython-input-35-0297521b4309>\u001b[0m in \u001b[0;36m<module>\u001b[1;34m\u001b[0m\n\u001b[1;32m----> 1\u001b[1;33m \u001b[0mlen\u001b[0m\u001b[1;33m(\u001b[0m\u001b[0mMMR_Experiment\u001b[0m\u001b[1;33m.\u001b[0m\u001b[0mparticipants\u001b[0m\u001b[1;33m)\u001b[0m\u001b[1;33m\u001b[0m\u001b[1;33m\u001b[0m\u001b[0m\n\u001b[0m",
      "\u001b[1;31mNameError\u001b[0m: name 'MMR_Experiment' is not defined"
     ]
    }
   ],
   "source": [
    "len(MMR_Experiment.participants)"
   ]
  },
  {
   "cell_type": "code",
   "execution_count": null,
   "id": "33d1edbc",
   "metadata": {},
   "outputs": [],
   "source": [
    "# error_messages"
   ]
  },
  {
   "cell_type": "code",
   "execution_count": null,
   "id": "936719ca",
   "metadata": {},
   "outputs": [],
   "source": [
    "print(\"Took\", (time.time()-start_time)/60, \" minutes \")"
   ]
  },
  {
   "cell_type": "code",
   "execution_count": null,
   "id": "1e4b6fc5",
   "metadata": {},
   "outputs": [],
   "source": [
    "# del MMR_Experiment\n",
    "# gc.collect()"
   ]
  },
  {
   "cell_type": "code",
   "execution_count": null,
   "id": "25ddd5f4",
   "metadata": {},
   "outputs": [],
   "source": []
  },
  {
   "cell_type": "code",
   "execution_count": null,
   "id": "fe042ecc",
   "metadata": {},
   "outputs": [],
   "source": []
  },
  {
   "cell_type": "code",
   "execution_count": null,
   "id": "0ac8efbf",
   "metadata": {},
   "outputs": [],
   "source": []
  }
 ],
 "metadata": {
  "kernelspec": {
   "display_name": "Python 3",
   "language": "python",
   "name": "python3"
  },
  "language_info": {
   "codemirror_mode": {
    "name": "ipython",
    "version": 3
   },
   "file_extension": ".py",
   "mimetype": "text/x-python",
   "name": "python",
   "nbconvert_exporter": "python",
   "pygments_lexer": "ipython3",
   "version": "3.6.8"
  }
 },
 "nbformat": 4,
 "nbformat_minor": 5
}
